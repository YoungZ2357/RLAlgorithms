{
 "cells": [
  {
   "cell_type": "code",
   "execution_count": null,
   "id": "initial_id",
   "metadata": {
    "collapsed": true
   },
   "outputs": [],
   "source": [
    "# tests for ALE environments for gymnasium\n",
    "# ale-py == 0.8.1 gymnasium == 0.28.1\n",
    "# DO NOT USE gym, which needs a c++ interface(ale_c.dll) to run atari games \n",
    "import gymnasium\n",
    "\n",
    "myenvs = list(gymnasium.envs.registry.keys())\n",
    "atari = [x for x in myenvs if \"ALE\" in x]\n",
    "print(atari)\n",
    "\n"
   ]
  },
  {
   "metadata": {},
   "cell_type": "code",
   "outputs": [],
   "execution_count": null,
   "source": "",
   "id": "f2f6dbcd6df0a17a"
  }
 ],
 "metadata": {
  "kernelspec": {
   "display_name": "Python 3",
   "language": "python",
   "name": "python3"
  },
  "language_info": {
   "codemirror_mode": {
    "name": "ipython",
    "version": 2
   },
   "file_extension": ".py",
   "mimetype": "text/x-python",
   "name": "python",
   "nbconvert_exporter": "python",
   "pygments_lexer": "ipython2",
   "version": "2.7.6"
  }
 },
 "nbformat": 4,
 "nbformat_minor": 5
}
