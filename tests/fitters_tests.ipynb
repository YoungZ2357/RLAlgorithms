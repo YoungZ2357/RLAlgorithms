{
 "cells": [
  {
   "metadata": {},
   "cell_type": "markdown",
   "source": "## tests for MLP",
   "id": "fbb3b06a6fb387d0"
  },
  {
   "cell_type": "code",
   "id": "initial_id",
   "metadata": {
    "collapsed": true,
    "ExecuteTime": {
     "end_time": "2024-07-07T01:30:49.323406Z",
     "start_time": "2024-07-07T01:30:49.318420Z"
    }
   },
   "source": [
    "# tests for basic networks\n",
    "import fitters.basic_network as my_nn\n",
    "import torch.nn as nn"
   ],
   "outputs": [],
   "execution_count": 12
  },
  {
   "metadata": {
    "ExecuteTime": {
     "end_time": "2024-07-07T01:30:49.344361Z",
     "start_time": "2024-07-07T01:30:49.338367Z"
    }
   },
   "cell_type": "code",
   "source": [
    "# generate all activations with a same function\n",
    "model = my_nn.MLP([32, 16, 4, 2], nn.SiLU())\n",
    "print(model)"
   ],
   "id": "99d362789cbf3153",
   "outputs": [
    {
     "name": "stdout",
     "output_type": "stream",
     "text": [
      "MLP(\n",
      "  (fc): Sequential(\n",
      "    (0): Linear(in_features=32, out_features=16, bias=True)\n",
      "    (1): SiLU()\n",
      "    (2): Linear(in_features=16, out_features=4, bias=True)\n",
      "    (3): SiLU()\n",
      "    (4): Linear(in_features=4, out_features=2, bias=True)\n",
      "  )\n",
      ")\n"
     ]
    }
   ],
   "execution_count": 13
  },
  {
   "metadata": {
    "ExecuteTime": {
     "end_time": "2024-07-07T01:30:49.369282Z",
     "start_time": "2024-07-07T01:30:49.360307Z"
    }
   },
   "cell_type": "code",
   "source": [
    "# generate activations with given functions\n",
    "# number of activations must be 2 lower than the length of dimension list\n",
    "# Eg. len([32, 16, 4, 2]) == 4, then there should be 2 activations in the list\n",
    "model = my_nn.MLP([32, 16, 4, 2], [nn.SiLU(), nn.ReLU()])\n",
    "print(model)"
   ],
   "id": "6630cdbe1fadcbe6",
   "outputs": [
    {
     "name": "stdout",
     "output_type": "stream",
     "text": [
      "MLP(\n",
      "  (fc): Sequential(\n",
      "    (0): Linear(in_features=32, out_features=16, bias=True)\n",
      "    (1): SiLU()\n",
      "    (2): Linear(in_features=16, out_features=4, bias=True)\n",
      "    (3): ReLU()\n",
      "    (4): Linear(in_features=4, out_features=2, bias=True)\n",
      "  )\n",
      ")\n"
     ]
    }
   ],
   "execution_count": 14
  },
  {
   "metadata": {},
   "cell_type": "markdown",
   "source": "## tests for CNN",
   "id": "1330ee529e4df103"
  },
  {
   "metadata": {},
   "cell_type": "code",
   "outputs": [],
   "execution_count": null,
   "source": "",
   "id": "1e874bbe4486095e"
  }
 ],
 "metadata": {
  "kernelspec": {
   "display_name": "Python 3",
   "language": "python",
   "name": "python3"
  },
  "language_info": {
   "codemirror_mode": {
    "name": "ipython",
    "version": 2
   },
   "file_extension": ".py",
   "mimetype": "text/x-python",
   "name": "python",
   "nbconvert_exporter": "python",
   "pygments_lexer": "ipython2",
   "version": "2.7.6"
  }
 },
 "nbformat": 4,
 "nbformat_minor": 5
}
